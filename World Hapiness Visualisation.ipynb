{
 "cells": [
  {
   "cell_type": "markdown",
   "metadata": {},
   "source": [
    "# Word Hapinness Visualisation\n",
    "---\n",
    "Program edukacyjny, którego celem jest wizualizacja poziomu szczęścia obywateli na całym świecie, a także oceny jakie czynniki najbardziej wpływają na zadowolenie obywateli. Dane wykorzystane w pracy pochodzą ze oficalnej strony Kaggle: https://www.kaggle.com/unsdsn/world-happiness#. \n",
    "\n",
    "W pracy wykorzystano następujące bibloteki:\n",
    "<ul>\n",
    "    <li>pandas</li>\n",
    "    <li>pycountry_convert</li>\n",
    "    <li>Plotly</li>\n",
    "    <li>Seaborn</li>\n",
    "</ul>"
   ]
  },
  {
   "cell_type": "code",
   "execution_count": 1,
   "metadata": {},
   "outputs": [],
   "source": [
    "import pandas"
   ]
  },
  {
   "cell_type": "markdown",
   "metadata": {},
   "source": [
    "## Opis danych\n",
    "---\n",
    "<ul>\n",
    "    <li> <i>Overall rank</i> - ranking państwa</li>\n",
    "    <li> <i>Country or region</i> - państwo bądź region</li>\n",
    "    <li> <i>Score</i> - ocena od 0 do 10 na podstawie bezpośredniego pytania: Jak ocenia Pan/Pani swoje szczęście od 0 do 10 </li>\n",
    "    <li> <i> GDP per capita</i> - produkt krajowy brutto na mieszkańca</li>\n",
    "    <li> <i> Social support </i> - poziom opiek socjalnej</li>\n",
    "    <li> <i> Healthy life expectancy</i> - średnia długość życia </li>\n",
    "    <li> <i> Freedom to make life choice </i> - wolność wyboru </li>\n",
    "    <li> <i> Generosity</i> - poziom zamożności </li>\n",
    "    <li> <i> Perceptions of corruption </i> - poziom korupcji </li>\n",
    "    "
   ]
  },
  {
   "cell_type": "code",
   "execution_count": 2,
   "metadata": {},
   "outputs": [
    {
     "ename": "NameError",
     "evalue": "name 'pd' is not defined",
     "output_type": "error",
     "traceback": [
      "\u001b[1;31m---------------------------------------------------------------------------\u001b[0m",
      "\u001b[1;31mNameError\u001b[0m                                 Traceback (most recent call last)",
      "\u001b[1;32m<ipython-input-2-ae68b3bdd13b>\u001b[0m in \u001b[0;36m<module>\u001b[1;34m\u001b[0m\n\u001b[1;32m----> 1\u001b[1;33m \u001b[0mdf\u001b[0m \u001b[1;33m=\u001b[0m \u001b[0mpd\u001b[0m\u001b[1;33m.\u001b[0m\u001b[0mread_csv\u001b[0m\u001b[1;33m(\u001b[0m\u001b[1;34m'2019.csv'\u001b[0m\u001b[1;33m)\u001b[0m\u001b[1;33m\u001b[0m\u001b[1;33m\u001b[0m\u001b[0m\n\u001b[0m\u001b[0;32m      2\u001b[0m \u001b[0mdf\u001b[0m\u001b[1;33m.\u001b[0m\u001b[0mset_index\u001b[0m\u001b[1;33m(\u001b[0m\u001b[1;34m'Overall rank'\u001b[0m\u001b[1;33m,\u001b[0m \u001b[0minplace\u001b[0m\u001b[1;33m=\u001b[0m\u001b[1;32mTrue\u001b[0m\u001b[1;33m)\u001b[0m\u001b[1;33m\u001b[0m\u001b[1;33m\u001b[0m\u001b[0m\n\u001b[0;32m      3\u001b[0m \u001b[1;33m\u001b[0m\u001b[0m\n\u001b[0;32m      4\u001b[0m \u001b[0mdf\u001b[0m\u001b[1;33m.\u001b[0m\u001b[0mhead\u001b[0m\u001b[1;33m(\u001b[0m\u001b[1;33m)\u001b[0m\u001b[1;33m\u001b[0m\u001b[1;33m\u001b[0m\u001b[0m\n",
      "\u001b[1;31mNameError\u001b[0m: name 'pd' is not defined"
     ]
    }
   ],
   "source": [
    "df = pd.read_csv('2019.csv')\n",
    "df.set_index('Overall rank', inplace=True)\n",
    "\n",
    "df.head()"
   ]
  },
  {
   "cell_type": "markdown",
   "metadata": {},
   "source": [
    "## Dodanie kontynentów\n",
    "---\n",
    "Wykorzystując biblioteke <i>pycountry_convert</i> do każdego kraju przypisano kontynent na którym on się znajduje. Następnie obliczono średnie wskaźników (<i>Score, GDP per capita,Social support, Healthy life expectancy, Freedom to make life choices, Generosity, Perceptions of corruption</i>) dla każdego kontynentu. Dane te posłużą do wizualizacji. \n"
   ]
  },
  {
   "cell_type": "code",
   "execution_count": null,
   "metadata": {},
   "outputs": [],
   "source": [
    "def decode_name(name):\n",
    "    if name == 'AF':\n",
    "        return 'Africa'\n",
    "    if name == 'AS':\n",
    "        return 'Asia'\n",
    "    if name == 'EU':\n",
    "        return 'Europe'\n",
    "    if name == 'NA':\n",
    "        return 'North America'\n",
    "    if name == 'OC':\n",
    "        return 'Oceania'\n",
    "    if name == 'SA':\n",
    "        return 'South America'"
   ]
  },
  {
   "cell_type": "code",
   "execution_count": null,
   "metadata": {},
   "outputs": [],
   "source": [
    "import pycountry_convert as pc\n",
    "\n",
    "continent_list = []\n",
    "continent_name = ''\n",
    "for index, row in df.iterrows():\n",
    "    try:\n",
    "        country_code = pc.country_name_to_country_alpha2(row['Country or region'], cn_name_format=\"default\")\n",
    "        continent_name = pc.country_alpha2_to_continent_code(country_code)\n",
    "        continent_name = decode_name(continent_name)\n",
    "        continent_list.append(continent_name)\n",
    "    except:\n",
    "        if row['Country or region'] == 'Trinidad & Tobago':\n",
    "            continent_name = 'SA'\n",
    "        if row['Country or region'] == 'Congo (Brazzaville)':\n",
    "            continent_name = 'AF'\n",
    "        if row['Country or region'] == 'Congo (Brazzaville)':\n",
    "            continent_name = 'AF'\n",
    "        if row['Country or region'] == 'Palestinian Territories':\n",
    "            continent_name = 'AS'\n",
    "        \n",
    "        continent_name = decode_name(continent_name)\n",
    "        continent_list.append(continent_name)\n",
    "\n",
    "df.insert(1, \"Continent\", continent_list, True)\n",
    "continent_df = df.groupby(['Continent']).mean()\n",
    "\n",
    "continent_df"
   ]
  },
  {
   "cell_type": "markdown",
   "metadata": {},
   "source": [
    "## Wizualizacja\n",
    "---\n",
    "Wykonano wykres słupkowy ilustrujący średnią wartość zadowolenia mieszkańca dla każdego kontynentu. Najwięszke zadowolenie jest w Oceanii, zaś najmniejsza w Afryce"
   ]
  },
  {
   "cell_type": "code",
   "execution_count": null,
   "metadata": {},
   "outputs": [],
   "source": [
    "continent_df2 = continent_df.reset_index()\n",
    "graph = continent_df2.plot.barh(x='Continent', y='Score')\n",
    "graph\n"
   ]
  },
  {
   "cell_type": "markdown",
   "metadata": {},
   "source": [
    "## Stworzenie mapy\n",
    "---\n",
    "Wykorzystująć bibliotekę <i>Plotly</i> wykonano mapę wizualizującą poziom szcześcia w poszczególnych krajach"
   ]
  },
  {
   "cell_type": "code",
   "execution_count": null,
   "metadata": {},
   "outputs": [],
   "source": [
    "import plotly as pl\n",
    "import plotly.graph_objs as gobj"
   ]
  },
  {
   "cell_type": "code",
   "execution_count": null,
   "metadata": {},
   "outputs": [],
   "source": [
    "data = dict(type = 'choropleth',\n",
    "            locations = df['Country or region'],\n",
    "            locationmode = 'country names',\n",
    "            autocolorscale = False,\n",
    "            colorscale = 'Portland',\n",
    "            text= df['Country or region'],\n",
    "            z=df['Score'],\n",
    "            marker = dict(line = dict(color = 'rgb(255,255,255)',width = 1)),\n",
    "            colorbar = {'title':'Colour Range','len':1,'lenmode':'fraction'})\n",
    "\n",
    "layout = dict(geo = dict(scope='world'))\n",
    "worldmap = gobj.Figure(data = [data],layout = layout)\n",
    "worldmap"
   ]
  },
  {
   "cell_type": "markdown",
   "metadata": {},
   "source": [
    "## Wykresy korelacji\n",
    "---\n",
    " \n",
    "W celu wizualizacji wpływu poszczególnych czynników na poziom szcześcia obywateli wykonano tablicę korelacji przy użyciu bibloteki <i>seaborn </i>\n"
   ]
  },
  {
   "cell_type": "code",
   "execution_count": null,
   "metadata": {},
   "outputs": [],
   "source": [
    "import seaborn as sn\n",
    "import matplotlib.pyplot as plt"
   ]
  },
  {
   "cell_type": "code",
   "execution_count": null,
   "metadata": {},
   "outputs": [],
   "source": [
    "df.corr()"
   ]
  },
  {
   "cell_type": "code",
   "execution_count": null,
   "metadata": {},
   "outputs": [],
   "source": [
    "sn.heatmap(df.corr(), annot=True)\n",
    "plt.show()"
   ]
  },
  {
   "cell_type": "code",
   "execution_count": null,
   "metadata": {},
   "outputs": [],
   "source": []
  }
 ],
 "metadata": {
  "kernelspec": {
   "display_name": "Python 3",
   "language": "python",
   "name": "python3"
  },
  "language_info": {
   "codemirror_mode": {
    "name": "ipython",
    "version": 3
   },
   "file_extension": ".py",
   "mimetype": "text/x-python",
   "name": "python",
   "nbconvert_exporter": "python",
   "pygments_lexer": "ipython3",
   "version": "3.7.7"
  }
 },
 "nbformat": 4,
 "nbformat_minor": 2
}
